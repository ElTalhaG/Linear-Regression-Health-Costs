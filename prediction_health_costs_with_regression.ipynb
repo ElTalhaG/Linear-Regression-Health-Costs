{
  "cells": [
    {
      "cell_type": "code",
      "execution_count": null,
      "metadata": {
        "id": "1rRo8oNqZ-Rj"
      },
      "outputs": [],
      "source": [
        "# Cell 1\n",
        "# Import libraries. You may or may not use all of these.\n",
        "!pip install -q git+https://github.com/tensorflow/docs\n",
        "import matplotlib.pyplot as plt\n",
        "import numpy as np\n",
        "import pandas as pd\n",
        "\n",
        "try:\n",
        "  # %tensorflow_version only exists in Colab.\n",
        "  %tensorflow_version 2.x\n",
        "except Exception:\n",
        "  pass\n",
        "import tensorflow as tf\n",
        "\n",
        "from tensorflow import keras\n",
        "from tensorflow.keras import layers\n",
        "\n",
        "import tensorflow_docs as tfdocs\n",
        "import tensorflow_docs.plots\n",
        "import tensorflow_docs.modeling"
      ]
    },
    {
      "cell_type": "code",
      "execution_count": null,
      "metadata": {
        "id": "CiX2FI4gZtTt"
      },
      "outputs": [],
      "source": [
        "# Cell 2\n",
        "# Import data\n",
        "!wget https://cdn.freecodecamp.org/project-data/health-costs/insurance.csv\n",
        "dataset = pd.read_csv('insurance.csv')\n",
        "dataset.tail()"
      ]
    },
    {
      "cell_type": "code",
      "execution_count": null,
      "metadata": {
        "id": "LcopvQh3X-kX"
      },
      "outputs": [],
      "source": [
        "# Cell 3\n",
        "import pandas as pd\n",
        "\n",
        "# Load dataset\n",
        "dataset = pd.read_csv(\"insurance.csv\")\n",
        "\n",
        "# Display first few rows\n",
        "print(dataset.head())\n",
        "\n",
        "# Check for missing values\n",
        "print(\"\\nMissing Values:\\n\", dataset.isnull().sum())\n",
        "\n",
        "# Display dataset info\n",
        "print(\"\\nDataset Info:\\n\")\n",
        "print(dataset.info())\n",
        "\n",
        "# Display statistical summary of numerical columns\n",
        "print(\"\\nStatistical Summary:\\n\")\n",
        "print(dataset.describe())\n"
      ]
    },
    {
      "cell_type": "code",
      "source": [
        "# Cell 3a\n",
        "from sklearn.model_selection import train_test_split\n",
        "from sklearn.preprocessing import StandardScaler\n",
        "\n",
        "# Convert categorical variables\n",
        "dataset['sex'] = dataset['sex'].map({'male': 0, 'female': 1})\n",
        "dataset['smoker'] = dataset['smoker'].map({'no': 0, 'yes': 1})\n",
        "\n",
        "# One-hot encoding for 'region'\n",
        "dataset = pd.get_dummies(dataset, columns=['region'], drop_first=True)\n",
        "\n",
        "# Define features (X) and labels (y)\n",
        "X = dataset.drop(columns=['expenses'])\n",
        "y = dataset['expenses']\n",
        "\n",
        "# Split data into training (80%) and testing (20%) sets\n",
        "train_dataset, test_dataset, train_labels, test_labels = train_test_split(X, y, test_size=0.2, random_state=42)\n",
        "\n",
        "# Normalize numerical features\n",
        "scaler = StandardScaler()\n",
        "train_dataset[['age', 'bmi', 'children']] = scaler.fit_transform(train_dataset[['age', 'bmi', 'children']])\n",
        "test_dataset[['age', 'bmi', 'children']] = scaler.transform(test_dataset[['age', 'bmi', 'children']])\n",
        "\n",
        "# Display processed data\n",
        "print(train_dataset.head())\n",
        "print(\"\\nTrain dataset shape:\", train_dataset.shape)\n",
        "print(\"Test dataset shape:\", test_dataset.shape)\n"
      ],
      "metadata": {
        "id": "Ha46n1PiMx3B"
      },
      "execution_count": null,
      "outputs": []
    },
    {
      "cell_type": "code",
      "source": [
        "# Cell 3b\n",
        "# Build the neural network model\n",
        "model = keras.Sequential([\n",
        "    layers.Dense(64, activation='relu', input_shape=[len(train_dataset.keys())]),\n",
        "    layers.Dense(64, activation='relu'),\n",
        "    layers.Dense(1)  # Output layer (regression problem, so 1 neuron)\n",
        "])\n",
        "\n",
        "# Compile the model\n",
        "model.compile(optimizer=tf.keras.optimizers.Adam(0.01),\n",
        "              loss='mse',  # Mean Squared Error\n",
        "              metrics=['mae', 'mse'])  # Mean Absolute Error & Mean Squared Error\n",
        "\n",
        "# Train the model\n",
        "history = model.fit(train_dataset, train_labels, epochs=100, validation_split=0.2, verbose=1)\n",
        "\n",
        "# Display training summary\n",
        "print(\"\\nTraining complete!\")\n"
      ],
      "metadata": {
        "id": "xOcDq_TvNE1w"
      },
      "execution_count": null,
      "outputs": []
    },
    {
      "cell_type": "code",
      "execution_count": null,
      "metadata": {
        "id": "Xe7RXH3N3CWU"
      },
      "outputs": [],
      "source": [
        "# Cell 4\n",
        "# RUN THIS CELL TO TEST YOUR MODEL. DO NOT MODIFY CONTENTS.\n",
        "# Test model by checking how well the model generalizes using the test set.\n",
        "loss, mae, mse = model.evaluate(test_dataset, test_labels, verbose=2)\n",
        "\n",
        "print(\"Testing set Mean Abs Error: {:5.2f} expenses\".format(mae))\n",
        "\n",
        "if mae < 3500:\n",
        "  print(\"You passed the challenge. Great job!\")\n",
        "else:\n",
        "  print(\"The Mean Abs Error must be less than 3500. Keep trying.\")\n",
        "\n",
        "# Plot predictions.\n",
        "test_predictions = model.predict(test_dataset).flatten()\n",
        "\n",
        "a = plt.axes(aspect='equal')\n",
        "plt.scatter(test_labels, test_predictions)\n",
        "plt.xlabel('True values (expenses)')\n",
        "plt.ylabel('Predictions (expenses)')\n",
        "lims = [0, 50000]\n",
        "plt.xlim(lims)\n",
        "plt.ylim(lims)\n",
        "_ = plt.plot(lims,lims)\n"
      ]
    }
  ],
  "metadata": {
    "colab": {
      "private_outputs": true,
      "provenance": []
    },
    "kernelspec": {
      "display_name": "Python 3",
      "name": "python3"
    }
  },
  "nbformat": 4,
  "nbformat_minor": 0
}